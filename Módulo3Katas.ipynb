{
 "cells": [
  {
   "cell_type": "markdown",
   "metadata": {},
   "source": [
    "# Ejercicio - Escribir declaraciones if , else, y elif\n"
   ]
  },
  {
   "cell_type": "markdown",
   "metadata": {},
   "source": [
    "Problema 1:\n",
    "\n",
    "Para este ejercicio, escribirás una lógica condicional que imprima una advertencia si un asteroide se acerca a la Tierra demasiado rápido. La velocidad del asteroide varía dependiendo de lo cerca que esté del sol, y cualquier velocidad superior a 25 kilómetros por segundo (km/s) merece una advertencia.\n",
    "\n",
    "Un asteroide se acerca, y viaja a una velocidad de 49 km/s."
   ]
  },
  {
   "cell_type": "code",
   "execution_count": null,
   "metadata": {},
   "outputs": [],
   "source": [
    "asteroide = 49\n",
    "if asteroide > 25:\n",
    "    print(\"¡Peligro! ¡Un asteroide se acerca a gran velocidad!\")\n",
    "else:\n",
    "    print(\"Ningun asteroide se acerca, continue con su dia\")"
   ]
  },
  {
   "cell_type": "markdown",
   "metadata": {},
   "source": [
    "Problema 2:\n",
    "\n",
    "Si un asteroide entra en la atmósfera de la Tierra a una velocidad mayor o igual a 20 km/s, a veces produce un rayo de luz que se puede ver desde la Tierra. Escribe la lógica condicional que usa declaraciones if, else, y elif para alertar a las personas de todo el mundo que deben buscar un asteroide en el cielo. ¡Hay uno que se dirige a la tierra ahora a una velocidad de 19 km/s!"
   ]
  },
  {
   "cell_type": "code",
   "execution_count": null,
   "metadata": {},
   "outputs": [],
   "source": [
    "asteroide = 19\n",
    "if asteroide > 20:\n",
    "    print(\"Mire al cielo para buscar al asteroide\")\n",
    "elif asteroide == 20:\n",
    "    print(\"Mire al cielo para buscar al asteroide\")\n",
    "else:\n",
    "    print(\"No hay ningun asteroide que observar\")"
   ]
  },
  {
   "cell_type": "markdown",
   "metadata": {},
   "source": [
    "# Ejercicio: Uso de operadores and y or\n",
    "Problema 3:\n",
    "\n",
    "En este ejercicio, aprenderás información más matizada sobre cuándo los asteroides representan un peligro para la Tierra, y utilizarás esa información para mejorar nuestro sistema de advertencia. Aquí está la nueva información que necesitas saber:\n",
    "\n",
    "*Los asteroides de menos de 25 metros en su dimensión más grande probablemente se quemarán a medida que entren en la atmósfera de la Tierra.\n",
    "\n",
    "    Si una pieza de un asteroide que es más grande que 25 metros pero más pequeña que 1000 metros golpeara la Tierra, causaría mucho daño.\n",
    "\n",
    "También discutimos en el ejercicio anterior que:\n",
    "\n",
    "    La velocidad del asteroide varía en función de lo cerca que esté del sol, y cualquier velocidad superior a 25 kilómetros por segundo (km/s) merece una advertencia.\n",
    "    Si un asteroide entra en la atmósfera de la Tierra a una velocidad mayor o igual a 20 km/s, a veces produce un rayo de luz que se puede ver desde la Tierra.\n",
    "\n",
    "Usando toda esta información, escribe un programa que emita la advertencia o información correcta a la gente de la Tierra, según la velocidad y el tamaño de un asteroide. Utiliza instrucciones if, else, y elif, así como los operadores and y or."
   ]
  },
  {
   "cell_type": "code",
   "execution_count": null,
   "metadata": {},
   "outputs": [],
   "source": [
    "tam_asteroide = 26\n",
    "vel_asteroide = 19\n",
    "if tam_asteroide > 25 and vel_asteroide >25:\n",
    "    print(\"¡Peligro! Asteroide de tamaño y velocidad mortal ¡Alejese del punto de impacto!\")\n",
    "elif tam_asteroide < 25:\n",
    "    print(\"Ningun asteroide se acerca, continue con su dia\")\n",
    "elif vel_asteroide >=20:\n",
    "    print(\"Mire al cielo para buscar al asteroide\")\n",
    "else:\n",
    "    print(\"Ningun asteroide se acerca, continue con su dia\")"
   ]
  },
  {
   "cell_type": "markdown",
   "metadata": {},
   "source": [
    "Curso Propedútico de Python para Launch X - Innovacción Virtual."
   ]
  }
 ],
 "metadata": {
  "interpreter": {
   "hash": "f321171df7c5d36898ed36856c704c5ebd791361d19685d0bf36da762d8671c7"
  },
  "kernelspec": {
   "display_name": "Python 3.10.0 64-bit",
   "language": "python",
   "name": "python3"
  },
  "language_info": {
   "codemirror_mode": {
    "name": "ipython",
    "version": 3
   },
   "file_extension": ".py",
   "mimetype": "text/x-python",
   "name": "python",
   "nbconvert_exporter": "python",
   "pygments_lexer": "ipython3",
   "version": "3.10.0"
  },
  "orig_nbformat": 4
 },
 "nbformat": 4,
 "nbformat_minor": 2
}
