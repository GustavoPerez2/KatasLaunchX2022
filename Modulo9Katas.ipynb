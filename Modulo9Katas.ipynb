{
 "cells": [
  {
   "cell_type": "markdown",
   "metadata": {},
   "source": [
    "\n",
    "# Ejercicio: Uso de funciones en Python\n",
    "Ejercicio 1: Trabajar con argumentos en funciones\n",
    "\n",
    "Los argumentos requeridos en las funciones se utilizan cuando las funciones necesitan que esos argumentos funcionen correctamente. En este ejercicio, construirás un informe de combustible que requiere información de varias ubicaciones de combustible en todo el cohete.\n"
   ]
  },
  {
   "cell_type": "code",
   "execution_count": 6,
   "metadata": {},
   "outputs": [
    {
     "name": "stdout",
     "output_type": "stream",
     "text": [
      "Combustible:\n",
      "    Promedio: 78.33333333333333%\n",
      "    Tanque1: 80%\n",
      "    Tanque2: 70%\n",
      "    Tanque3: 85% \n",
      "    \n",
      "Combustible:\n",
      "    promedio: 78.0%\n",
      "    Tanque1: 88%\n",
      "    Tanque2: 76%\n",
      "    Tanque3: 70% \n",
      "    \n"
     ]
    }
   ],
   "source": [
    "def tanques(tanque1, tanque2, tanque3):\n",
    "    promedio = (tanque1 + tanque2 + tanque3) / 3\n",
    "    return f\"\"\"Combustible:\n",
    "    Promedio: {promedio}%\n",
    "    Tanque1: {tanque1}%\n",
    "    Tanque2: {tanque2}%\n",
    "    Tanque3: {tanque3}% \n",
    "    \"\"\"\n",
    "\n",
    "print(tanques(80, 70, 85))\n",
    "\n",
    "def promedio1(valor):\n",
    "    total = sum(valor)\n",
    "    numero_item = len(valor)\n",
    "    return total / numero_item\n",
    "\n",
    "\n",
    "promedio1([80, 85, 81]) \n",
    "\n",
    "def tanques(tanque1, tanque2, tanque3):\n",
    "    return f\"\"\"Combustible:\n",
    "    promedio: {promedio1([tanque1, tanque2, tanque3])}%\n",
    "    Tanque1: {tanque1}%\n",
    "    Tanque2: {tanque2}%\n",
    "    Tanque3: {tanque3}% \n",
    "    \"\"\"\n",
    "\n",
    "\n",
    "print(tanques(88, 76, 70))"
   ]
  },
  {
   "cell_type": "markdown",
   "metadata": {},
   "source": [
    "\n",
    "# Ejercicio 2: Trabajo con argumentos de palabra clave\n",
    "Ejercicio : Trabajar con argumentos de palabras clave en funciones\n",
    "\n",
    "En este ejercicio, construirás un informe de cohete que requiere varias piezas de información, como el tiempo hasta el destino, el combustible a la izquierda y el nombre del destino. Comienza por crear una función que creará un informe preciso de la misión:\n"
   ]
  },
  {
   "cell_type": "code",
   "execution_count": 7,
   "metadata": {},
   "outputs": [
    {
     "name": "stdout",
     "output_type": "stream",
     "text": [
      "\n",
      "    Viaje a luna\n",
      "    Tiempo total viaje: 65 minutos\n",
      "    Combustible sobrante: 500000 galones\n",
      "    \n",
      "\n",
      "    Viaje a luna\n",
      "    Tiempo total viaje: 76 minutes\n",
      "    Combustible sobrante: 500000\n",
      "    \n",
      "\n",
      "    Viaje a Moon\n",
      "    Tiempo total viaje: 74 minutes\n",
      "    Combustible sobrante: 500000\n",
      "    interno tanque --> 300000 galones sobrantes\n",
      "externo tanque --> 200000 galones sobrantes\n",
      "\n"
     ]
    }
   ],
   "source": [
    "def infomision(prelanzamiento, tiempo_vuelo, destino, tanque_externo, tanque_interno):\n",
    "    return f\"\"\"\n",
    "    Viaje a {destino}\n",
    "    Tiempo total viaje: {prelanzamiento + tiempo_vuelo} minutos\n",
    "    Combustible sobrante: {tanque_externo + tanque_interno} galones\n",
    "    \"\"\"\n",
    "\n",
    "print(infomision(14, 51, \"luna\", 200000, 300000))\n",
    "\n",
    "def infomision(destino, *minutos, **reserva):\n",
    "    return f\"\"\"\n",
    "    Viaje a {destino}\n",
    "    Tiempo total viaje: {sum(minutos)} minutes\n",
    "    Combustible sobrante: {sum(reserva.values())}\n",
    "    \"\"\"\n",
    "\n",
    "print(infomision(\"luna\", 10, 15, 51, interno=300000, externo=200000))\n",
    "\n",
    "def infomision(destino, *minutos, **reserva):\n",
    "    main_report = f\"\"\"\n",
    "    Viaje a {destino}\n",
    "    Tiempo total viaje: {sum(minutos)} minutes\n",
    "    Combustible sobrante: {sum(reserva.values())}\n",
    "    \"\"\"\n",
    "    for nombretanque, galones in reserva.items():\n",
    "        main_report += f\"{nombretanque} tanque --> {galones} galones sobrantes\\n\"\n",
    "    return main_report\n",
    "\n",
    "print(infomision(\"Moon\", 8, 11, 55, interno=300000, externo=200000))"
   ]
  }
 ],
 "metadata": {
  "interpreter": {
   "hash": "f321171df7c5d36898ed36856c704c5ebd791361d19685d0bf36da762d8671c7"
  },
  "kernelspec": {
   "display_name": "Python 3.10.0 64-bit",
   "language": "python",
   "name": "python3"
  },
  "language_info": {
   "codemirror_mode": {
    "name": "ipython",
    "version": 3
   },
   "file_extension": ".py",
   "mimetype": "text/x-python",
   "name": "python",
   "nbconvert_exporter": "python",
   "pygments_lexer": "ipython3",
   "version": "3.10.0"
  },
  "orig_nbformat": 4
 },
 "nbformat": 4,
 "nbformat_minor": 2
}
